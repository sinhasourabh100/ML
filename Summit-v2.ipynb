{
 "cells": [
  {
   "cell_type": "code",
   "execution_count": 2,
   "metadata": {
    "collapsed": true
   },
   "outputs": [],
   "source": [
    "import csv\n",
    "from sklearn import preprocessing\n",
    "import numpy as np"
   ]
  },
  {
   "cell_type": "code",
   "execution_count": 3,
   "metadata": {
    "collapsed": false
   },
   "outputs": [],
   "source": [
    "shareCount = 50\n",
    "shareMap= {}\n",
    "for i in range(shareCount):\n",
    "    shareMap[\"Share\"+str(i+1)] = i+1\n",
    "#print (shareMap)\n",
    "\n",
    "blank =\"\""
   ]
  },
  {
   "cell_type": "code",
   "execution_count": 4,
   "metadata": {
    "collapsed": true
   },
   "outputs": [],
   "source": [
    "def convertDateToFeature(date):\n",
    "    #this function will be used to convert date into a numerical feature\n",
    "    from datetime import datetime\n",
    "    from dateutil.parser import parse\n",
    "    import pandas as pd\n",
    "    startdate = '23-Dec-15'\n",
    "    dt = datetime.strptime( date, '%d-%b-%y' )\n",
    "    sdt =datetime.strptime( startdate, '%d-%b-%y' )\n",
    "    diff = dt-sdt    \n",
    "    return diff.days\n",
    "    "
   ]
  },
  {
   "cell_type": "code",
   "execution_count": 5,
   "metadata": {
    "collapsed": true
   },
   "outputs": [],
   "source": [
    "def transformDataShares(trainingFile,features,testsize):\n",
    "    #this function will be used to load data from csv file and use preprocess it\n",
    "    #Variable to hold list of list of input parameters\n",
    "    transformData =[]\n",
    "    \n",
    "    with open(trainingFile,'rt') as csvfile:\n",
    "        linereader= csv.reader(csvfile,delimiter=\",\",quotechar = \"\\\"\")\n",
    "        lineNum =1\n",
    "        for row in linereader:\n",
    "            #print(row)\n",
    "            #save headers in the data\n",
    "            if lineNum == 1:\n",
    "                header = row\n",
    "            else:\n",
    "                #save data in a list\n",
    "                allfeatures = list(map(lambda x:shareMap[x] if row.index(x) == 0\n",
    "                                 else convertDateToFeature(x) if row.index(x) == 1 else x, row))\n",
    "                #1st column is share string and 2nd column is date\n",
    "                #ignore all empty values\n",
    "                featureVector = [allfeatures[header.index(feature)] for feature in features]\n",
    "                \n",
    "                #if blank not in featureVector:\n",
    "                transformData.append(featureVector)\n",
    "                \n",
    "            lineNum += 1\n",
    "    #Split data into trainng and test\n",
    "    import pandas as pd\n",
    "    import numpy as np\n",
    "    from sklearn.model_selection import train_test_split\n",
    "\n",
    "    train, test = train_test_split(transformData, test_size = testsize)\n",
    "    train = np.array(train)\n",
    "    test = np.array(test)\n",
    "    #filter X and y\n",
    "    label_open_train = train[:,3]\n",
    "    label_open_test = test[:,3]\n",
    "    label_closed_train = train[:,7]\n",
    "    label_closed_test = test[:,7]\n",
    "    train_open = np.delete(train, np.s_[3:4], axis=1) \n",
    "    train_open = np.delete(train_open, np.s_[6:7], axis=1) \n",
    "    train_close = np.delete(train, np.s_[7:8], axis=1) \n",
    "    #train = np.delete(train, np.s_[6:7], axis=1) \n",
    "    test_open = np.delete(test, np.s_[3:4], axis=1) \n",
    "    test_open = np.delete(test_open, np.s_[6:7], axis=1) \n",
    "    test_close = np.delete(test, np.s_[6:7], axis=1) \n",
    "    \n",
    "    return transformData,train,test,train_open,train_close, test_open,test_close,label_open_train,label_open_test,label_closed_train,label_closed_test"
   ]
  },
  {
   "cell_type": "code",
   "execution_count": 6,
   "metadata": {
    "collapsed": false
   },
   "outputs": [],
   "source": [
    "filterCols = ['Share Names','Date','Prev Close','Open Price','High Price','Low Price',\n",
    "            'Last Price','Close Price','Average Price','Total Traded Quantity','Turnover in Lacs',\n",
    "            'Deliverable Qty','% Dly Qt to Traded Qty']\n",
    "features = ['Share Names','Date','Prev Close','High Price','Low Price',\n",
    "            'Last Price','Average Price','Total Traded Quantity','Turnover in Lacs',\n",
    "            'Deliverable Qty','% Dly Qt to Traded Qty']\n",
    "predict_y1 =['Open Price']\n",
    "predict_y2 =['Close Price']\n",
    "\n",
    "trainingFile = r'C:\\Users\\soursinha\\Documents\\Sourabh\\Analytics Summit\\Hackathon\\HackathonRound1.csv'\n",
    "\n",
    "transformData,train,test,train_open,train_close,test_open,test_close,label_open_train,label_open_test,label_closed_train,label_closed_test= transformDataShares(trainingFile,filterCols,0.25)"
   ]
  },
  {
   "cell_type": "code",
   "execution_count": 7,
   "metadata": {
    "collapsed": false
   },
   "outputs": [
    {
     "name": "stdout",
     "output_type": "stream",
     "text": [
      "['49' '391' '162.65' '163.45' '163.75' '162.2' '162.55' '162.65' '162.79'\n",
      " '278579' '45349686.7' '175120' '62.86'] ['49' '391' '162.65' '163.75' '162.2' '162.55' '162.79' '278579'\n",
      " '45349686.7' '175120' '62.86'] 163.45 ['49' '391' '162.65' '163.45' '163.75' '162.2' '162.55' '162.79' '278579'\n",
      " '45349686.7' '175120' '62.86'] 162.65\n"
     ]
    }
   ],
   "source": [
    "print(train[0], train_open[0],label_open_train[0],train_close[0],label_closed_train[0])"
   ]
  },
  {
   "cell_type": "code",
   "execution_count": 8,
   "metadata": {
    "collapsed": false
   },
   "outputs": [
    {
     "name": "stdout",
     "output_type": "stream",
     "text": [
      "['6' '273' '319.2' '320.4' '323' '318.8' '322' '321.85' '320.91' '1663305'\n",
      " '533772975.1' '645016' '38.78'] ['6' '273' '319.2' '323' '318.8' '322' '320.91' '1663305' '533772975.1'\n",
      " '645016' '38.78'] 320.4 ['6' '273' '319.2' '320.4' '323' '318.8' '321.85' '320.91' '1663305'\n",
      " '533772975.1' '645016' '38.78'] 321.85\n"
     ]
    }
   ],
   "source": [
    "print(test[0], test_open[0],label_open_test[0],test_close[0],label_closed_test[0])"
   ]
  },
  {
   "cell_type": "code",
   "execution_count": 9,
   "metadata": {
    "collapsed": false
   },
   "outputs": [
    {
     "name": "stdout",
     "output_type": "stream",
     "text": [
      "23605 17703 17703 5902 5902\n"
     ]
    }
   ],
   "source": [
    "print(len(transformData),len(train_open),len(label_open_train),len(test_open),len(label_closed_test))\n",
    "\n",
    "#test1"
   ]
  },
  {
   "cell_type": "code",
   "execution_count": 10,
   "metadata": {
    "collapsed": true
   },
   "outputs": [],
   "source": [
    "def preprocessData(inputData,ppType=None):\n",
    "    if ppType == 'norm':\n",
    "        return np.array(preprocessing.normalize(inputData, norm='l2')).astype(np.float)\n",
    "    elif ppType == 'std':\n",
    "        return preprocessing.scale(inputData)\n",
    "    elif ppType == 'minmax':\n",
    "        min_max_scaler = preprocessing.MinMaxScaler()\n",
    "        return min_max_scaler.fit_transform(inputData)\n",
    "    elif ppType == 'abs':\n",
    "        max_abs_scaler = preprocessing.MaxAbsScaler()\n",
    "        return max_abs_scaler.fit_transform(inputData)\n",
    "    else:\n",
    "        return inputData\n",
    "    "
   ]
  },
  {
   "cell_type": "code",
   "execution_count": 11,
   "metadata": {
    "collapsed": false
   },
   "outputs": [],
   "source": [
    "#Preprocess Data\n",
    "train_open_pp = preprocessData(train_open).astype(np.float64)\n",
    "train_close_pp = preprocessData(train_close).astype(np.float64)\n",
    "\n",
    "test_open_pp = preprocessData(test_open).astype(np.float64)\n",
    "test_close_pp = preprocessData(test_close).astype(np.float64)\n",
    "\n",
    "train_open_pp[0]\n",
    "label_open_train = label_open_train.astype(np.float64)\n",
    "label_open_test = label_open_test.astype(np.float64)\n",
    "\n",
    "label_close_train = label_closed_train.astype(np.float64)\n",
    "label_close_test = label_closed_test.astype(np.float64)\n"
   ]
  },
  {
   "cell_type": "code",
   "execution_count": 12,
   "metadata": {
    "collapsed": false
   },
   "outputs": [
    {
     "name": "stdout",
     "output_type": "stream",
     "text": [
      "[  4.90000000e+01   3.91000000e+02   1.62650000e+02   1.63750000e+02\n",
      "   1.62200000e+02   1.62550000e+02   1.62790000e+02   2.78579000e+05\n",
      "   4.53496867e+07   1.75120000e+05   6.28600000e+01] 163.45 162.65\n"
     ]
    }
   ],
   "source": [
    "print(train_open_pp[0],label_open_train[0],label_closed_train[0])"
   ]
  },
  {
   "cell_type": "code",
   "execution_count": 13,
   "metadata": {
    "collapsed": false
   },
   "outputs": [
    {
     "name": "stdout",
     "output_type": "stream",
     "text": [
      "122.214074168 7.02353960757 5.4899601491 1.38191824805\n"
     ]
    }
   ],
   "source": [
    "#Test 1: Using linear regression\n",
    "import numpy as np\n",
    "import matplotlib.pyplot as plt\n",
    "from scipy import stats\n",
    "from sklearn.metrics import mean_absolute_error\n",
    "\n",
    "from sklearn.linear_model import ARDRegression, LinearRegression\n",
    "\n",
    "#label_open_train\n",
    "ols = LinearRegression(normalize=False)\n",
    "ols1 = LinearRegression()\n",
    "ols.fit(train_open_pp, label_open_train)\n",
    "ols1.fit(train_close_pp, label_close_train)\n",
    "\n",
    "#Rounding off \n",
    "y_open_prediction = np.around( ols.predict(test_open_pp),decimals =4)\n",
    "y_close_prediction = np.around(ols1.predict(test_close_pp),decimals =4)\n",
    "label_open_test = np.around(label_open_test,decimals =4)\n",
    "label_close_test = np.around(label_close_test,decimals =4)\n",
    "\n",
    "mape_open = mean_absolute_error(label_open_test,y_open_prediction)\n",
    "mape_close = mean_absolute_error(label_close_test,y_close_prediction)\n",
    "\n",
    "#mape = mean_absolute_percentage_error(ols.predict(test_open_pp),label_open_test)\n",
    "#Mean Square Error \n",
    "error_open = np.mean((y_open_prediction-label_open_test)**2)\n",
    "error_close = np.mean((y_close_prediction-label_close_test)**2)\n",
    "print(error_open, error_close, mape_open,mape_close)\n",
    "#error without preprocessing"
   ]
  },
  {
   "cell_type": "code",
   "execution_count": 14,
   "metadata": {
    "collapsed": false
   },
   "outputs": [
    {
     "data": {
      "text/plain": [
       "array([ 320.0572,   77.092 ,   64.6649, ...,   95.8239,  579.0131,  227.75  ])"
      ]
     },
     "execution_count": 14,
     "metadata": {},
     "output_type": "execute_result"
    }
   ],
   "source": [
    "y_open_prediction"
   ]
  },
  {
   "cell_type": "code",
   "execution_count": 15,
   "metadata": {
    "collapsed": false
   },
   "outputs": [
    {
     "data": {
      "text/plain": [
       "array([ 320.4 ,   77.5 ,   63.  , ...,   95.5 ,  577.5 ,  227.75])"
      ]
     },
     "execution_count": 15,
     "metadata": {},
     "output_type": "execute_result"
    }
   ],
   "source": [
    "label_open_test"
   ]
  },
  {
   "cell_type": "code",
   "execution_count": 16,
   "metadata": {
    "collapsed": false
   },
   "outputs": [
    {
     "data": {
      "text/plain": [
       "array([ 321.2229,   75.8613,   63.7429, ...,   96.2372,  578.29  ,  227.258 ])"
      ]
     },
     "execution_count": 16,
     "metadata": {},
     "output_type": "execute_result"
    }
   ],
   "source": [
    "y_close_prediction"
   ]
  },
  {
   "cell_type": "code",
   "execution_count": 17,
   "metadata": {
    "collapsed": false
   },
   "outputs": [
    {
     "data": {
      "text/plain": [
       "array(['321.85', '76.15', '63.9', ..., '96.4', '577.75', '227.3'], \n",
       "      dtype='<U11')"
      ]
     },
     "execution_count": 17,
     "metadata": {},
     "output_type": "execute_result"
    }
   ],
   "source": [
    "label_closed_test"
   ]
  },
  {
   "cell_type": "code",
   "execution_count": 18,
   "metadata": {
    "collapsed": false
   },
   "outputs": [
    {
     "data": {
      "text/plain": [
       "array([ 321.22,   75.86,   63.74, ...,   96.24,  578.29,  227.26])"
      ]
     },
     "execution_count": 18,
     "metadata": {},
     "output_type": "execute_result"
    }
   ],
   "source": [
    "np.around(y_close_prediction,decimals =2)"
   ]
  },
  {
   "cell_type": "code",
   "execution_count": 19,
   "metadata": {
    "collapsed": false
   },
   "outputs": [
    {
     "data": {
      "text/plain": [
       "array([ 321.85,   76.15,   63.9 , ...,   96.4 ,  577.75,  227.3 ])"
      ]
     },
     "execution_count": 19,
     "metadata": {},
     "output_type": "execute_result"
    }
   ],
   "source": [
    "np.around(label_close_test,decimals =2)"
   ]
  },
  {
   "cell_type": "code",
   "execution_count": 20,
   "metadata": {
    "collapsed": false
   },
   "outputs": [
    {
     "data": {
      "text/plain": [
       "5.4899601491019991"
      ]
     },
     "execution_count": 20,
     "metadata": {},
     "output_type": "execute_result"
    }
   ],
   "source": [
    "mean_absolute_error(label_open_test,y_open_prediction)"
   ]
  },
  {
   "cell_type": "code",
   "execution_count": 21,
   "metadata": {
    "collapsed": false
   },
   "outputs": [],
   "source": [
    "#Using SVR\n",
    "from sklearn.svm import SVR\n",
    "clf = SVR(C=1e3, epsilon=0.2,kernel='rbf',gamma=0.1)\n",
    "clf.fit(train_open_pp, label_open_train)\n",
    "clf1 = SVR(C=1e3, epsilon=0.02)\n",
    "clf1.fit(train_close_pp, label_close_train)\n",
    "\n",
    "#Rounding off \n",
    "svr_y_open_prediction = np.around(clf.predict(test_open_pp),decimals =4)\n",
    "svr_y_close_prediction = np.around(clf1.predict(test_close_pp),decimals =4)\n",
    "\n",
    "\n",
    "\n",
    "\n"
   ]
  },
  {
   "cell_type": "code",
   "execution_count": 24,
   "metadata": {
    "collapsed": false
   },
   "outputs": [
    {
     "name": "stdout",
     "output_type": "stream",
     "text": [
      "493.695857472 493.630675398\n",
      "[ 640.7448  640.7448  640.7448 ...,  640.7448  640.7448  640.7448] \n",
      " [ 320.4    77.5    63.   ...,   95.5   577.5   227.75]\n",
      "[ 640.0907  640.0907  640.0907 ...,  640.0907  640.0907  640.0907] \n",
      " [ 321.85   76.15   63.9  ...,   96.4   577.75  227.3 ]\n"
     ]
    }
   ],
   "source": [
    "mape_open_svr = mean_absolute_error(label_open_test,svr_y_open_prediction)\n",
    "mape_close_svr = mean_absolute_error(label_close_test,svr_y_close_prediction)\n",
    "print(mape_open_svr,mape_close_svr)\n",
    "print(svr_y_open_prediction,'\\n',label_open_test)\n",
    "print(svr_y_close_prediction,'\\n',label_close_test)"
   ]
  },
  {
   "cell_type": "code",
   "execution_count": 25,
   "metadata": {
    "collapsed": false
   },
   "outputs": [
    {
     "data": {
      "text/plain": [
       "array(['6', '273', '319.2', '320.4', '323', '318.8', '322', '321.85',\n",
       "       '320.91', '1663305', '533772975.1', '645016', '38.78'], \n",
       "      dtype='<U11')"
      ]
     },
     "execution_count": 25,
     "metadata": {},
     "output_type": "execute_result"
    }
   ],
   "source": [
    "test[0]"
   ]
  },
  {
   "cell_type": "code",
   "execution_count": 70,
   "metadata": {
    "collapsed": false
   },
   "outputs": [
    {
     "name": "stdout",
     "output_type": "stream",
     "text": [
      "5.49021274376\n",
      "[ 320.05628902   77.09117829   64.66513851 ...,   95.82298692  579.01405373\n",
      "  227.7498929 ] \n",
      " [ 320.4    77.5    63.   ...,   95.5   577.5   227.75]\n"
     ]
    }
   ],
   "source": [
    "###### Using BayesianRidge regressor\n",
    "from sklearn.linear_model import BayesianRidge\n",
    "clf3 = BayesianRidge(compute_score=False, tol=0.001, alpha_1=2e-07, alpha_2=2e-06, lambda_1=1e-06, lambda_2=1e-06)\n",
    "clf3.fit(train_open_pp, label_open_train)\n",
    "\n",
    "br_y_open_prediction = np.around(clf3.predict(test_open_pp),decimals =4)\n",
    "br_y_open_prediction = clf3.predict(test_open_pp)\n",
    "\n",
    "mape_open_br = mean_absolute_error(label_open_test,br_y_open_prediction)\n",
    "print(mape_open_br)\n",
    "print(br_y_open_prediction,'\\n',label_open_test)"
   ]
  },
  {
   "cell_type": "code",
   "execution_count": 71,
   "metadata": {
    "collapsed": false
   },
   "outputs": [
    {
     "name": "stdout",
     "output_type": "stream",
     "text": [
      "640.550065046\n",
      "[ 145.9036    6.7234    7.1375 ...,    2.8789   34.7432  705.0954] \n",
      " [ 320.4    77.5    63.   ...,   95.5   577.5   227.75]\n",
      "640.549346747\n",
      "[ 145.8957    6.7302    7.1431 ...,    2.888    34.7426  705.104 ] \n",
      " [ 320.4    77.5    63.   ...,   95.5   577.5   227.75]\n",
      "640.54933426\n",
      "[ 145.8975    6.7309    7.1438 ...,    2.8878   34.7436  705.113 ] \n",
      " [ 320.4    77.5    63.   ...,   95.5   577.5   227.75]\n",
      "640.549174212\n",
      "[ 145.8897    6.7324    7.1446 ...,    2.8922   34.741   705.0944] \n",
      " [ 320.4    77.5    63.   ...,   95.5   577.5   227.75]\n",
      "640.549663419\n",
      "[ 145.9033    6.7237    7.1381 ...,    2.8772   34.7447  705.0882] \n",
      " [ 320.4    77.5    63.   ...,   95.5   577.5   227.75]\n",
      "640.549659471\n",
      "[ 145.8999    6.7236    7.1382 ...,    2.8759   34.7445  705.0681] \n",
      " [ 320.4    77.5    63.   ...,   95.5   577.5   227.75]\n"
     ]
    }
   ],
   "source": [
    "#Hubber Regressor\n",
    "from sklearn.linear_model import HuberRegressor, Ridge\n",
    "epsilon_values = [1.35, 1.5, 1.75, 1.9,1.1,1.2]\n",
    "for k, epsilon in enumerate(epsilon_values):\n",
    "    huber = HuberRegressor(fit_intercept=True, alpha=0.01, max_iter=10000,\n",
    "                           epsilon=epsilon)\n",
    "    huber.fit(train_open_pp, label_open_train)\n",
    "    huber_y_open_prediction = np.around(huber.predict(test_open_pp),decimals =4)\n",
    "    mape_open_huber = mean_absolute_error(label_open_test,huber_y_open_prediction)\n",
    "    print(mape_open_huber)\n",
    "    print(huber_y_open_prediction,'\\n',label_open_test)\n",
    "    \n"
   ]
  },
  {
   "cell_type": "code",
   "execution_count": 72,
   "metadata": {
    "collapsed": false
   },
   "outputs": [
    {
     "name": "stdout",
     "output_type": "stream",
     "text": [
      "5.4899601491\n",
      "[ 320.0572   77.092    64.6649 ...,   95.8239  579.0131  227.75  ] \n",
      " [ 320.4    77.5    63.   ...,   95.5   577.5   227.75]\n"
     ]
    }
   ],
   "source": [
    "# Fit a ridge regressor to compare it \n",
    "ridge = Ridge(fit_intercept=True, alpha=0.0, random_state=0, normalize=True)\n",
    "ridge.fit(train_open_pp, label_open_train)\n",
    "ridge_y_open_prediction = np.around(ridge.predict(test_open_pp),decimals =4)\n",
    "mape_open_ridge = mean_absolute_error(label_open_test,ridge_y_open_prediction)\n",
    "print(mape_open_ridge)\n",
    "print(ridge_y_open_prediction,'\\n',label_open_test)"
   ]
  },
  {
   "cell_type": "code",
   "execution_count": null,
   "metadata": {
    "collapsed": true
   },
   "outputs": [],
   "source": []
  }
 ],
 "metadata": {
  "kernelspec": {
   "display_name": "Python 3",
   "language": "python",
   "name": "python3"
  },
  "language_info": {
   "codemirror_mode": {
    "name": "ipython",
    "version": 3
   },
   "file_extension": ".py",
   "mimetype": "text/x-python",
   "name": "python",
   "nbconvert_exporter": "python",
   "pygments_lexer": "ipython3",
   "version": "3.5.2"
  }
 },
 "nbformat": 4,
 "nbformat_minor": 2
}
